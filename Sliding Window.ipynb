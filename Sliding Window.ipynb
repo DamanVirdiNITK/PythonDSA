{
 "cells": [
  {
   "cell_type": "markdown",
   "metadata": {},
   "source": [
    "Sliding Window"
   ]
  },
  {
   "cell_type": "code",
   "execution_count": null,
   "metadata": {},
   "outputs": [],
   "source": [
    "If Brute Force contains repetitive work, it can surely be improved "
   ]
  },
  {
   "cell_type": "code",
   "execution_count": null,
   "metadata": {},
   "outputs": [],
   "source": [
    "To calculate max subarray sum (let window size be 3)\n",
    "1st Pass: 1+2+3\n",
    "2nd Pass: 2+3+4\n",
    "3rd Pass: 3+4+5\n",
    "    \n",
    "Now adding 3+4 is repetitive in step 2 and 3\n",
    "\n",
    "so, something can be done to improve this"
   ]
  },
  {
   "cell_type": "code",
   "execution_count": null,
   "metadata": {},
   "outputs": [],
   "source": [
    "# How to identify where can we use sliding window?\n",
    "\n",
    "Mostly questions on array or strings, we are required to deal with subarray or substring\n",
    "We are reqd to find max or largest sth\n",
    "k, window size would be give  and if k is not given, we'll be required to find that\n"
   ]
  },
  {
   "cell_type": "code",
   "execution_count": null,
   "metadata": {},
   "outputs": [],
   "source": [
    "Types of Sliding Window Questions:\n",
    "1. Fixed Size Window   - We need to find max sum etc\n",
    "2. Variable Size Window - Find window size (relatively tough, requires Map etc)"
   ]
  },
  {
   "cell_type": "code",
   "execution_count": null,
   "metadata": {},
   "outputs": [],
   "source": []
  },
  {
   "cell_type": "code",
   "execution_count": null,
   "metadata": {},
   "outputs": [],
   "source": [
    "SLIDING WINDOW ALGO\n",
    "\n",
    "i, j = 0\n",
    "\n",
    "while(j < size):\n",
    "    calculation that we have to do while traversing j\n",
    "    basically add values corresponding to j\n",
    "    \n",
    "    if j-i+1 <k:\n",
    "        j++\n",
    "        \n",
    "    elif j-i+1==k:\n",
    "        calculation check if conditon satisfies\n",
    "        \n",
    "        remove the value corresponding to i\n",
    "        i++\n",
    "        j++\n",
    "return result\n",
    "        "
   ]
  },
  {
   "cell_type": "code",
   "execution_count": null,
   "metadata": {},
   "outputs": [],
   "source": []
  },
  {
   "cell_type": "code",
   "execution_count": null,
   "metadata": {},
   "outputs": [],
   "source": []
  },
  {
   "cell_type": "code",
   "execution_count": null,
   "metadata": {},
   "outputs": [],
   "source": [
    "QUESTION - Maximum sum subarray of size k"
   ]
  },
  {
   "cell_type": "code",
   "execution_count": null,
   "metadata": {},
   "outputs": [],
   "source": [
    "#Method 1: Complex and few test cases not working\n",
    "nums = [2,3,5,2,9,7,20]\n",
    "k = 3\n",
    "sum = 0\n",
    "for i in range(k):\n",
    "    sum +=nums[i]\n",
    "    \n",
    "for j in range(k-1, len(nums)-1):\n",
    "    if sum < sum - nums[j-k+1] + nums[j+1]:\n",
    "        sum = sum - nums[j-k+1] + nums[j+1]\n",
    "print(sum)\n",
    "\n",
    "#TODO: Check wht this test case failed\n",
    "#https://practice.geeksforgeeks.org/problems/max-sum-subarray-of-size-k5313/1"
   ]
  },
  {
   "cell_type": "code",
   "execution_count": null,
   "metadata": {},
   "outputs": [],
   "source": [
    "#Method -2 Proper sliding window algo\n",
    "#starting element of window = i\n",
    "#ending element of window = j\n",
    "#Initially both i, j are set to 0\n",
    "#While window size < k, increase j\n",
    "#when window size == k, compare sum, increase both i and j together to keep window size constant\n",
    "#execute the loop till end\n",
    "def maximumSumSubarray (self,K,Arr,N):\n",
    "        # code here \n",
    "        i, j =0, 0\n",
    "        sum, maxSum = 0, 0\n",
    "        while (j < N):\n",
    "            sum += Arr[j]\n",
    "            if ((j-i +1) < K):\n",
    "                j +=1\n",
    "            elif (j-i+1 == K):\n",
    "                maxSum = max(maxSum, sum)\n",
    "                sum -= Arr[i]\n",
    "                i+=1\n",
    "                j+=1\n",
    "            \n",
    "        return maxSum\n",
    "            "
   ]
  },
  {
   "cell_type": "code",
   "execution_count": null,
   "metadata": {},
   "outputs": [],
   "source": []
  },
  {
   "cell_type": "code",
   "execution_count": null,
   "metadata": {},
   "outputs": [],
   "source": []
  },
  {
   "cell_type": "markdown",
   "metadata": {},
   "source": [
    "FirstNegativeInteger in Window k"
   ]
  },
  {
   "cell_type": "code",
   "execution_count": null,
   "metadata": {},
   "outputs": [],
   "source": [
    "#Method-1 Brute Force TLE\n",
    "def printFirstNegativeInteger( A, N, K):\n",
    "    # code here\n",
    "    output = []\n",
    "    for i in range(0, N-K+1):\n",
    "        for j in range(i, i+K):\n",
    "            if A[j] <0:\n",
    "                output.append(A[j])\n",
    "                break\n",
    "            if j == i+K-1:\n",
    "                output.append(0)\n",
    "    return output\n",
    "\n",
    "10050/10100 test cases passed\n"
   ]
  },
  {
   "cell_type": "code",
   "execution_count": null,
   "metadata": {},
   "outputs": [],
   "source": [
    "def printFirstNegativeInteger( A, N, K):\n",
    "    # code here\n",
    "    i, j= 0,0\n",
    "    #temp will contain all the negative numbers\n",
    "    output, temp = [], []\n",
    "    while j< N:\n",
    "        \n",
    "        if A[j]<0:\n",
    "            temp.append(A[j]) \n",
    "        \n",
    "        if j-i+1 <K:\n",
    "            j +=1\n",
    "            \n",
    "        elif j-i+1 == K:\n",
    "            if len(temp) == 0:\n",
    "                output.append(0)\n",
    "                \n",
    "            else:\n",
    "                output.append(temp[0])\n",
    "                if temp[0] == A[i]:\n",
    "                    temp.pop(0)\n",
    "            \n",
    "                    \n",
    "            i+=1\n",
    "            j+=1\n",
    "    return output"
   ]
  },
  {
   "cell_type": "code",
   "execution_count": null,
   "metadata": {},
   "outputs": [],
   "source": []
  },
  {
   "cell_type": "code",
   "execution_count": null,
   "metadata": {},
   "outputs": [],
   "source": []
  },
  {
   "cell_type": "markdown",
   "metadata": {},
   "source": [
    "438. Find All Anagrams in a String"
   ]
  },
  {
   "cell_type": "code",
   "execution_count": null,
   "metadata": {},
   "outputs": [],
   "source": [
    "class Solution:\n",
    "    def findAnagrams(self, s: str, p: str) -> List[int]:\n",
    "        pDict = Counter(p)\n",
    "        i, j, tempDict = 0,0,{}\n",
    "        output = []\n",
    "        \n",
    "        while j<len(s):\n",
    "            if s[j] in tempDict:\n",
    "                tempDict[s[j]] +=1\n",
    "            else:\n",
    "                tempDict[s[j]] = 1\n",
    "            \n",
    "            if j-i+1 <len(p):\n",
    "                j +=1\n",
    "            \n",
    "            elif j-i+1 == len(p):\n",
    "                if tempDict == pDict:\n",
    "                    output.append(i)\n",
    "                \n",
    "                if tempDict[s[i]] == 1:\n",
    "                    del tempDict[s[i]]\n",
    "                else:\n",
    "                    tempDict[s[i]] -=1\n",
    "                i +=1\n",
    "                j +=1\n",
    "        \n",
    "        return output\n",
    "        \n",
    "#TC - O(n)\n",
    "#SC - O(k)"
   ]
  }
 ],
 "metadata": {
  "kernelspec": {
   "display_name": "Python 3",
   "language": "python",
   "name": "python3"
  },
  "language_info": {
   "codemirror_mode": {
    "name": "ipython",
    "version": 3
   },
   "file_extension": ".py",
   "mimetype": "text/x-python",
   "name": "python",
   "nbconvert_exporter": "python",
   "pygments_lexer": "ipython3",
   "version": "3.8.5"
  }
 },
 "nbformat": 4,
 "nbformat_minor": 4
}
